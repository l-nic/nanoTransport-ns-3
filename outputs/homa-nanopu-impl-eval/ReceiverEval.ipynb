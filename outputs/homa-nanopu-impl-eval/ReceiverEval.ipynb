{
 "cells": [
  {
   "cell_type": "code",
   "execution_count": 1,
   "metadata": {},
   "outputs": [],
   "source": [
    "import json\n",
    "import numpy as np\n",
    "from scipy import stats\n",
    "import math\n",
    "import matplotlib.pyplot as plt\n",
    "from matplotlib.ticker import MultipleLocator\n",
    "from matplotlib import gridspec\n",
    "\n",
    "startTime = 3.0\n",
    "\n",
    "pktPayloadSize = 1460 # Bytes\n",
    "hdrSize = 40 # Bytes\n",
    "mtu = pktPayloadSize + hdrSize\n",
    "\n",
    "torBw = 10e9 # bps\n",
    "baseRtt = 6e-6 # seconds\n",
    "bdpPkts = torBw * baseRtt / 8 / mtu # packets"
   ]
  },
  {
   "cell_type": "code",
   "execution_count": 2,
   "metadata": {},
   "outputs": [],
   "source": [
    "def removeKey(d, key):\n",
    "    r = dict(d)\n",
    "    del r[key]\n",
    "    return r"
   ]
  },
  {
   "cell_type": "markdown",
   "metadata": {},
   "source": [
    "# Importing MsgTrace Data"
   ]
  },
  {
   "cell_type": "code",
   "execution_count": 3,
   "metadata": {},
   "outputs": [],
   "source": [
    "msgTraceData = {}\n",
    "msgIds = []\n",
    "\n",
    "with open(\"ReceiverEval-MsgTraces.tr\",'r') as f:\n",
    "    for line in f:\n",
    "        msgLog = line.split()\n",
    "\n",
    "        time = float(msgLog[1])*1e-9 -startTime   # in seconds\n",
    "        msgSize = int(msgLog[2])                  # in bytes\n",
    "        sender = msgLog[3]                        # ip:port\n",
    "        receiver = msgLog[4]                      # ip:port\n",
    "        txMsgId = int(msgLog[5])\n",
    "\n",
    "        key = receiver.split(':')[1] # DstPort\n",
    "\n",
    "        if (msgLog[0]=='+'):\n",
    "            msgIds.append(key)\n",
    "            msgTraceData[key] = {}\n",
    "            msgTraceData[key]['size'] = msgSize\n",
    "            msgTraceData[key]['start'] = time\n",
    "\n",
    "        elif (msgLog[0] =='-'):\n",
    "            msgTraceData[key]['finish'] = time"
   ]
  },
  {
   "cell_type": "markdown",
   "metadata": {},
   "source": [
    "# Importing PktTrace Data"
   ]
  },
  {
   "cell_type": "code",
   "execution_count": 4,
   "metadata": {},
   "outputs": [],
   "source": [
    "pktTraceData = {}\n",
    "\n",
    "with open(\"ReceiverEval-PktTraces.tr\",'r') as f:\n",
    "    for line in f:\n",
    "        pktLog = line.split()\n",
    "\n",
    "        time = float(pktLog[0])*1e-9 -startTime # in seconds\n",
    "        sender = pktLog[1]                      # ip:port\n",
    "        receiver = pktLog[2]                    # ip:port\n",
    "        txMsgId = int(pktLog[3])\n",
    "        pktOffset = int(pktLog[4])\n",
    "        prio = int(pktLog[5])\n",
    "        \n",
    "        key = receiver.split(':')[1] # DstPort\n",
    "        \n",
    "        if (key not in pktTraceData):\n",
    "            pktTraceData[key] = {}\n",
    "            pktTraceData[key]['times'] = []\n",
    "            pktTraceData[key]['offsets'] = []\n",
    "            pktTraceData[key]['prios'] = []\n",
    "            \n",
    "        pktTraceData[key]['times'].append(time)\n",
    "        pktTraceData[key]['offsets'].append(pktOffset)\n",
    "        pktTraceData[key]['prios'].append(prio)"
   ]
  },
  {
   "cell_type": "code",
   "execution_count": 5,
   "metadata": {},
   "outputs": [
    {
     "data": {
      "image/png": "[encoded data removed]",
      "text/plain": [
       "<Figure size 720x432 with 2 Axes>"
      ]
     },
     "metadata": {},
     "output_type": "display_data"
    }
   ],
   "source": [
    "fig = plt.figure(figsize=(10,6)) \n",
    "gs = gridspec.GridSpec(2, 1, height_ratios=[2, 1])\n",
    "\n",
    "ax0 = plt.subplot(gs[0])\n",
    "\n",
    "for key, val in pktTraceData.items():\n",
    "    plt.step(val['times'], val['offsets'], label=key, \n",
    "             c=\"C\"+str(msgIds.index(key)), where='post')\n",
    "    \n",
    "for key, val in msgTraceData.items():\n",
    "    plt.scatter(val['finish'], val['size']/pktPayloadSize-1,\n",
    "                marker='*', c=\"C\"+str(msgIds.index(key)))\n",
    "\n",
    "plt.title('Homa Receiver Evaluations with Multiple Ingress Messages')\n",
    "plt.ylabel('Sequence Number of Arriving Packet')\n",
    "ax0.legend(title='Msg ID')\n",
    "ax0.yaxis.set_minor_locator(MultipleLocator(bdpPkts))\n",
    "ax0.xaxis.set_minor_locator(MultipleLocator(baseRtt))\n",
    "ax0.xaxis.set_major_locator(MultipleLocator(3*baseRtt))\n",
    "ax0.grid(which='both')\n",
    "plt.tight_layout()\n",
    "\n",
    "ax1 = plt.subplot(gs[1])\n",
    "for key, val in pktTraceData.items():\n",
    "    plt.step(val['times'], val['prios'], label=key, \n",
    "             c=\"C\"+str(msgIds.index(key)), where='post')\n",
    "    \n",
    "plt.ylabel('Priorities of Arriving Packets')\n",
    "plt.xlabel('Time')\n",
    "ax1.xaxis.set_minor_locator(MultipleLocator(baseRtt))\n",
    "ax1.xaxis.set_major_locator(MultipleLocator(3*baseRtt))\n",
    "ax1.grid(which='both')\n",
    "plt.tight_layout()\n",
    "\n",
    "plt.show()"
   ]
  },
  {
   "cell_type": "code",
   "execution_count": null,
   "metadata": {},
   "outputs": [],
   "source": []
  }
 ],
 "metadata": {
  "kernelspec": {
   "display_name": "Python 3",
   "language": "python",
   "name": "python3"
  },
  "language_info": {
   "codemirror_mode": {
    "name": "ipython",
    "version": 3
   },
   "file_extension": ".py",
   "mimetype": "text/x-python",
   "name": "python",
   "nbconvert_exporter": "python",
   "pygments_lexer": "ipython3",
   "version": "3.4.3"
  }
 },
 "nbformat": 4,
 "nbformat_minor": 2
}
