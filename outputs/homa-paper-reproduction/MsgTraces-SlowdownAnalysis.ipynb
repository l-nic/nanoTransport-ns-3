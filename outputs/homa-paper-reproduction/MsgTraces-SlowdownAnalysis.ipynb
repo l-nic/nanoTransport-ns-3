{
 "cells": [
  {
   "cell_type": "code",
   "execution_count": 1,
   "metadata": {},
   "outputs": [],
   "source": [
    "# import sys\n",
    "# !{sys.executable} -m pip install scipy"
   ]
  },
  {
   "cell_type": "code",
   "execution_count": 2,
   "metadata": {},
   "outputs": [],
   "source": [
    "import json\n",
    "import numpy as np\n",
    "from scipy import stats\n",
    "import matplotlib.pyplot as plt\n",
    "\n",
    "figsize = (10,6)\n",
    "pktPayloadSize = 1460 # Bytes"
   ]
  },
  {
   "cell_type": "code",
   "execution_count": 3,
   "metadata": {},
   "outputs": [],
   "source": [
    "def removekey(d, key):\n",
    "    r = dict(d)\n",
    "    del r[key]\n",
    "    return r"
   ]
  },
  {
   "cell_type": "markdown",
   "metadata": {},
   "source": [
    "# Importing the NS3 Simulation Data"
   ]
  },
  {
   "cell_type": "code",
   "execution_count": 4,
   "metadata": {},
   "outputs": [],
   "source": [
    "workloadName = '_W5'\n",
    "workloadSource = 'DCTCP'\n",
    "networkLoad = 0.5\n",
    "simName = workloadName + '_load-' + str(int(networkLoad*100)) + 'p'\n",
    "numSim = 4\n",
    "folderName = str(numSim)+\"-parallel-sims-noRtx/\"\n",
    "# folderName = \"./\"\n",
    "plotQueueFigures = False"
   ]
  },
  {
   "cell_type": "code",
   "execution_count": 5,
   "metadata": {},
   "outputs": [],
   "source": [
    "msgStartEntryDict = {}\n",
    "msgCompletionTimesDict = {}\n",
    "allMsgSizes = []\n",
    "\n",
    "for i in range(numSim):\n",
    "    with open(folderName+\"MsgTraces\"+simName+\"_\"+str(i)+\".tr\",'r') as f:\n",
    "        for line in f:\n",
    "            msgLog = line.split()\n",
    "\n",
    "            time = float(msgLog[1])*1e-9        # in seconds\n",
    "            msgSize = int(msgLog[2])#//1462*1462 # in bytes\n",
    "            sender = msgLog[3]                  # ip:port\n",
    "            receiver = msgLog[4]                # ip:port\n",
    "            txMsgId = int(msgLog[5])\n",
    "\n",
    "            key = (sender, receiver, txMsgId, i)\n",
    "\n",
    "            if (msgLog[0]=='+'):\n",
    "                if (key in msgStartEntryDict):\n",
    "                    msgStartEntryDict[key].append(time)\n",
    "                else:\n",
    "                    msgStartEntryDict[key] = [time]\n",
    "\n",
    "            elif (msgLog[0] =='-'):\n",
    "                if (key in msgStartEntryDict):\n",
    "                    startTime = msgStartEntryDict[key].pop()\n",
    "                    if (len(msgStartEntryDict[key]) <= 0):\n",
    "                        msgStartEntryDict = removekey(msgStartEntryDict, key)\n",
    "\n",
    "                    if (msgSize in msgCompletionTimesDict):\n",
    "                        msgCompletionTimesDict[msgSize].append(time-startTime)\n",
    "                    else:\n",
    "                        msgCompletionTimesDict[msgSize] = [time-startTime]\n",
    "                    allMsgSizes.append(msgSize)\n",
    "                else:\n",
    "                    print('ERROR: Start entry of message (' \\\n",
    "                          + sender + ' > ' + receiver + ', ' + str(txMsgId) \\\n",
    "                          + ') not found!')\n",
    "allMsgSizes = np.array(allMsgSizes)\n",
    "msgSizePercentiles = stats.rankdata(allMsgSizes, 'max')/len(allMsgSizes)*100"
   ]
  },
  {
   "cell_type": "code",
   "execution_count": 6,
   "metadata": {},
   "outputs": [
    {
     "name": "stdout",
     "output_type": "stream",
     "text": [
      "Number of uncompleted messages: 0\n"
     ]
    }
   ],
   "source": [
    "i = 0\n",
    "for msgKey, msgStartTimes in msgStartEntryDict.items():\n",
    "#     print(msgKey, ' : ', msgStartTimes)\n",
    "    i += len(msgStartTimes)\n",
    "print ('Number of uncompleted messages: ' + str(i))"
   ]
  },
  {
   "cell_type": "code",
   "execution_count": 7,
   "metadata": {},
   "outputs": [],
   "source": [
    "# print (json.dumps(msgCompletionTimesDict, sort_keys=True, indent=4))"
   ]
  },
  {
   "cell_type": "code",
   "execution_count": 8,
   "metadata": {},
   "outputs": [
    {
     "name": "stdout",
     "output_type": "stream",
     "text": [
      "Number of distinct message sizes: 400\n",
      "Number of distinct message sizes that have multiple measurements: 400\n",
      "Number of distinct messages: 65703\n"
     ]
    }
   ],
   "source": [
    "print('Number of distinct message sizes: ' + str(len(msgCompletionTimesDict)))\n",
    "\n",
    "cntMultMeasures = 0\n",
    "numMsgs = 0\n",
    "nonFullPacketMsgSizes = []\n",
    "for msgSize, msgCompletionTimes in msgCompletionTimesDict.items():\n",
    "    \n",
    "    if (len(msgCompletionTimes)>1):\n",
    "        cntMultMeasures += 1\n",
    "    \n",
    "    numMsgs += len(msgCompletionTimes)\n",
    "    \n",
    "    if (msgSize%pktPayloadSize != 0):\n",
    "        nonFullPacketMsgSizes.append((msgSize,msgSize%pktPayloadSize))\n",
    "    \n",
    "print('Number of distinct message sizes that '\\\n",
    "      +'have multiple measurements: ' + str(cntMultMeasures))   \n",
    "print('Number of distinct messages: ' + str(numMsgs)) \n",
    "\n",
    "if (nonFullPacketMsgSizes):\n",
    "    print('Non-Full Packet Message Sizes: ', nonFullPacketMsgSizes)"
   ]
  },
  {
   "cell_type": "code",
   "execution_count": 9,
   "metadata": {},
   "outputs": [],
   "source": [
    "SimMsgSizes = []\n",
    "SimP50CompletionTimes = []\n",
    "SimP99CompletionTimes = []\n",
    "SimBaseCompletionTimes = []\n",
    "SimP50SlowDowns = []\n",
    "SimP99SlowDowns = []\n",
    "\n",
    "for msgSize, msgCompletionTimes in msgCompletionTimesDict.items():\n",
    "    \n",
    "    SimMsgSizes.append(msgSize)\n",
    "    \n",
    "    times = np.array(msgCompletionTimes)\n",
    "    p50CompletionTime = np.percentile(times,50)\n",
    "    SimP50CompletionTimes.append(p50CompletionTime)\n",
    "    p99CompletionTime = np.percentile(times,99)\n",
    "    SimP99CompletionTimes.append(p99CompletionTime)\n",
    "    \n",
    "    baseCompletionTime = (msgSize+pktPayloadSize)*8.0/10e9 + 0.5e-6 \\\n",
    "                          + 2*pktPayloadSize*8.0/40e9 + 0.5e-6\n",
    "    SimBaseCompletionTimes.append(baseCompletionTime)\n",
    "    \n",
    "    SimP50SlowDowns.append(p50CompletionTime / baseCompletionTime)\n",
    "    SimP99SlowDowns.append(p99CompletionTime / baseCompletionTime)\n",
    "    \n",
    "zipData = sorted(zip(SimMsgSizes,\n",
    "                     SimP50CompletionTimes,\n",
    "                     SimP99CompletionTimes,\n",
    "                     SimBaseCompletionTimes,\n",
    "                     SimP50SlowDowns,\n",
    "                     SimP99SlowDowns))\n",
    "    \n",
    "SimMsgSizes = np.array([x for x,_,_,_,_,_ in zipData])\n",
    "SimP50CompletionTimes = np.array([x for _,x,_,_,_,_ in zipData])\n",
    "SimP99CompletionTimes = np.array([x for _,_,x,_,_,_ in zipData])\n",
    "SimBaseCompletionTimes = np.array([x for _,_,_,x,_,_ in zipData])\n",
    "SimP50SlowDowns = np.array([x for _,_,_,_,x,_ in zipData])\n",
    "SimP99SlowDowns = np.array([x for _,_,_,_,_,x in zipData])"
   ]
  },
  {
   "cell_type": "markdown",
   "metadata": {},
   "source": [
    "# Importing the Original Raw Data from the Paper"
   ]
  },
  {
   "cell_type": "code",
   "execution_count": 10,
   "metadata": {},
   "outputs": [],
   "source": [
    "cumPercent = 0\n",
    "origMsgSizeCumPercents = []\n",
    "origP50SlowDowns = []\n",
    "origP99SlowDowns = []\n",
    "with open(\"original-raw-data-from-paper.txt\",'r') as f:\n",
    "    for line in f:\n",
    "        rawEntry = line.split()\n",
    "        \n",
    "        protocol = rawEntry[0]\n",
    "        if (protocol=='TransportType'):\n",
    "            continue\n",
    "            \n",
    "        loadFactor = float(rawEntry[1])\n",
    "        workload = rawEntry[2]\n",
    "        sizeCntPercent = float(rawEntry[4])\n",
    "        medianSlowDown = float(rawEntry[8]) if rawEntry[8]!='NA' else None\n",
    "        tailSlowDown = float(rawEntry[9]) if rawEntry[9]!='NA' else None\n",
    "        \n",
    "        if (protocol == 'Homa' \\\n",
    "             and loadFactor == networkLoad \\\n",
    "             and workload == workloadSource \\\n",
    "             and (medianSlowDown or tailSlowDown)):\n",
    "            \n",
    "            if (medianSlowDown):\n",
    "                cumPercent += sizeCntPercent \n",
    "                origMsgSizeCumPercents.append(cumPercent)\n",
    "                origP50SlowDowns.append(medianSlowDown)\n",
    "            elif (tailSlowDown):\n",
    "                origP99SlowDowns.append(tailSlowDown)"
   ]
  },
  {
   "cell_type": "markdown",
   "metadata": {},
   "source": [
    "# Plotting the Slowdown Curves"
   ]
  },
  {
   "cell_type": "code",
   "execution_count": 11,
   "metadata": {},
   "outputs": [
    {
     "data": {
      "image/png": "[encoded data removed]",
      "text/plain": [
       "<Figure size 720x432 with 1 Axes>"
      ]
     },
     "metadata": {},
     "output_type": "display_data"
    }
   ],
   "source": [
    "plt.figure(figsize=figsize)\n",
    "plt.grid()\n",
    "\n",
    "x = [msgSizePercentiles[np.where(allMsgSizes == i)[0][0]] for i in SimMsgSizes]\n",
    "plt.step(x,SimP50SlowDowns, label='NS-3 50%', color='C0')\n",
    "plt.step(origMsgSizeCumPercents,origP50SlowDowns, label='OMNet++ 50%',\n",
    "          linestyle='--', color='C0')\n",
    "plt.step(x,SimP99SlowDowns,label='NS-3 99%', color='C1')\n",
    "plt.step(origMsgSizeCumPercents,origP99SlowDowns, label='OMNet++ 99%',\n",
    "          linestyle='--', color='C1')\n",
    "\n",
    "plt.ylabel('Slow Down')\n",
    "plt.xlabel('Message Size (Bytes)')\n",
    "plt.title('Homa Message Completion Slowdown for ' + \\\n",
    "          workloadSource + ' Workload with ' + \\\n",
    "          str(networkLoad*100) + '% Load')\n",
    "plt.legend(loc='upper left')\n",
    "\n",
    "xTickPercentiles = np.linspace(10, 100, 10)\n",
    "xticks = np.percentile(allMsgSizes,xTickPercentiles) \n",
    "plt.xticks(xTickPercentiles, xticks, rotation=45)\n",
    "\n",
    "plt.yscale('log')\n",
    "yticks = None\n",
    "if (networkLoad==0.5):\n",
    "    yticks = [1,2,3,4,5,10]\n",
    "elif (networkLoad==0.8):\n",
    "    yticks = [1,2,3,4,5,10,20,30]\n",
    "if (yticks):\n",
    "    plt.yticks(yticks, yticks)\n",
    "\n",
    "plt.gca().spines[\"right\"].set_visible(False)\n",
    "plt.gca().spines[\"top\"].set_visible(False)\n",
    "plt.tight_layout()\n",
    "\n",
    "# plt.savefig(folderName+'MsgComletionSlowdown'+simName+'.png')\n",
    "plt.show()"
   ]
  },
  {
   "cell_type": "code",
   "execution_count": 12,
   "metadata": {},
   "outputs": [],
   "source": [
    "# binnedMsgCompletionTimesDict = {}\n",
    "\n",
    "# bdpPkts = 7\n",
    "# bdpBytes = bdpPkts * pktPayloadSize\n",
    "# for msgSize, msgCompletionTimes in msgCompletionTimesDict.items():    \n",
    "#     binnedMsgSize = (int)(msgSize // bdpBytes + 1) * bdpBytes\n",
    "#     if (binnedMsgSize in binnedMsgCompletionTimesDict.keys()):\n",
    "#         binnedMsgCompletionTimesDict[binnedMsgSize] += msgCompletionTimes\n",
    "#     else:\n",
    "#         binnedMsgCompletionTimesDict[binnedMsgSize] = msgCompletionTimes"
   ]
  },
  {
   "cell_type": "code",
   "execution_count": 13,
   "metadata": {},
   "outputs": [],
   "source": [
    "# binnedMsgSizes = []\n",
    "# binnedP50CompletionTimes = []\n",
    "# binnedP99CompletionTimes = []\n",
    "# binnedBaseCompletionTimes = []\n",
    "# binnedP50SlowDowns = []\n",
    "# binnedP99SlowDowns = []\n",
    "\n",
    "# for msgSize, msgCompletionTimes in binnedMsgCompletionTimesDict.items():\n",
    "    \n",
    "#     binnedMsgSizes.append(msgSize)\n",
    "    \n",
    "#     times = np.array(msgCompletionTimes)\n",
    "#     p50CompletionTime = np.percentile(times,50)\n",
    "#     binnedP50CompletionTimes.append(p50CompletionTime)\n",
    "#     p99CompletionTime = np.percentile(times,99)\n",
    "#     binnedP99CompletionTimes.append(p99CompletionTime)\n",
    "    \n",
    "#     baseCompletionTime = (msgSize+pktPayloadSize)*8.0/10e9 + 0.5e-6\n",
    "#     binnedBaseCompletionTimes.append(baseCompletionTime)\n",
    "    \n",
    "#     binnedP50SlowDowns.append(p50CompletionTime / baseCompletionTime)\n",
    "#     binnedP99SlowDowns.append(p99CompletionTime / baseCompletionTime)\n",
    "    \n",
    "# zipData = sorted(zip(binnedMsgSizes,\n",
    "#                      binnedP50CompletionTimes,\n",
    "#                      binnedP99CompletionTimes,\n",
    "#                      binnedBaseCompletionTimes,\n",
    "#                      binnedP50SlowDowns,\n",
    "#                      binnedP99SlowDowns))\n",
    "    \n",
    "# binnedMsgSizes = np.array([x for x,_,_,_,_,_ in zipData])\n",
    "# binnedP50CompletionTimes = np.array([x for _,x,_,_,_,_ in zipData])\n",
    "# binnedP99CompletionTimes = np.array([x for _,_,x,_,_,_ in zipData])\n",
    "# binnedBaseCompletionTimes = np.array([x for _,_,_,x,_,_ in zipData])\n",
    "# binnedP50SlowDowns = np.array([x for _,_,_,_,x,_ in zipData])\n",
    "# binnedP99SlowDowns = np.array([x for _,_,_,_,_,x in zipData])"
   ]
  },
  {
   "cell_type": "code",
   "execution_count": 14,
   "metadata": {},
   "outputs": [],
   "source": [
    "# plt.figure(figsize=figsize)\n",
    "# plt.grid()\n",
    "\n",
    "# plt.plot(binnedMsgSizes,binnedP50SlowDowns,label='Homa p50')\n",
    "# plt.plot(binnedMsgSizes,binnedP99SlowDowns,label='Homa p99')\n",
    "\n",
    "# plt.ylabel('Slow Down')\n",
    "# plt.xlabel('Message Size (Bytes)')\n",
    "# plt.title('Message completion slowdown for '+simName)\n",
    "# plt.legend(loc='upper left')\n",
    "\n",
    "# # plt.ylim([1,15])\n",
    "# # plt.yscale('log')\n",
    "# # yticks = [1,2,3,4,15]\n",
    "# # plt.yticks(yticks, yticks)\n",
    "# plt.xscale('log')\n",
    "\n",
    "# xTickPercentiles = np.linspace(10, 100, 10)\n",
    "# xticks = np.percentile(allMsgSizes,xTickPercentiles)\n",
    "# # if (networkLoad==0.5):\n",
    "# #     xticks = [5768,18746,27398,47586,70658,191786,961814,1922186,4806186,28840000]\n",
    "# # elif (networkLoad==0.8):\n",
    "# #     xticks = [7210,21630,28840,50470,70658,269654,1058428,2210586,11537442,28840000]  \n",
    "# plt.xticks(xticks, xticks, rotation=45)\n",
    "\n",
    "# plt.gca().spines[\"right\"].set_visible(False)\n",
    "# plt.gca().spines[\"top\"].set_visible(False)\n",
    "# plt.tight_layout()\n",
    "\n",
    "# # plt.savefig('MsgComletionSlowdown'+simName+'.png')\n",
    "# plt.show()"
   ]
  },
  {
   "cell_type": "markdown",
   "metadata": {},
   "source": [
    "# Importing the NS3 Queue Size Data"
   ]
  },
  {
   "cell_type": "code",
   "execution_count": 15,
   "metadata": {},
   "outputs": [],
   "source": [
    "if (plotQueueFigures):\n",
    "    queueTracesDict = {}\n",
    "\n",
    "    maxQueueSize = 0\n",
    "    selectedHostIdx = 0\n",
    "\n",
    "    for i in range(1):\n",
    "        with open(folderName+\"MsgTraces\"+simName+\"_\"+str(i)+\".qlen\",'r') as f:\n",
    "            for line in f:\n",
    "                qLog = line.split()\n",
    "\n",
    "                time = float(qLog[0])*1e-9        # in seconds\n",
    "                hostIdx = int(qLog[1].split('=')[1])\n",
    "                qSize = float(qLog[2].split('=')[1])/1e3 #in KBytes\n",
    "\n",
    "                if (qSize > maxQueueSize):\n",
    "                    maxQueueSize = qSize\n",
    "                    selectedHostIdx = hostIdx\n",
    "\n",
    "                if (hostIdx in queueTracesDict):\n",
    "                    queueTracesDict[hostIdx]['time'].append(time)\n",
    "                    queueTracesDict[hostIdx]['qSize'].append(qSize)\n",
    "                else:\n",
    "                    queueTracesDict[hostIdx] = {}\n",
    "                    queueTracesDict[hostIdx]['time'] = [time]\n",
    "                    queueTracesDict[hostIdx]['qSize'] = [qSize]"
   ]
  },
  {
   "cell_type": "code",
   "execution_count": 16,
   "metadata": {},
   "outputs": [],
   "source": [
    "if (plotQueueFigures):\n",
    "    plt.figure(figsize=figsize)\n",
    "    plt.grid()\n",
    "\n",
    "    # for hostIdx, qTrace in queueTracesDict.items():\n",
    "    #     plt.plot(qTrace['time'], qTrace['qSize'], label=hostIdx)\n",
    "    #     break\n",
    "    hostIdxToPlot = selectedHostIdx\n",
    "    plt.plot(queueTracesDict[hostIdxToPlot]['time'], \n",
    "             queueTracesDict[hostIdxToPlot]['qSize'], \n",
    "             label=hostIdxToPlot)\n",
    "\n",
    "    plt.xlabel('Time (sec)')\n",
    "    plt.ylabel('Queue Size (KBytes)')\n",
    "    plt.title('The Queue Trace of the ToR Switch for ' + \\\n",
    "              workloadSource + ' Workload with ' + \\\n",
    "              str(networkLoad*100) + '% Load')\n",
    "    plt.legend(title='Host Idx')\n",
    "\n",
    "    plt.gca().spines[\"right\"].set_visible(False)\n",
    "    plt.gca().spines[\"top\"].set_visible(False)\n",
    "    plt.tight_layout()\n",
    "\n",
    "    plt.show()"
   ]
  },
  {
   "cell_type": "code",
   "execution_count": 17,
   "metadata": {},
   "outputs": [],
   "source": [
    "if (plotQueueFigures):\n",
    "    for hostIdx, qTrace in queueTracesDict.items():\n",
    "        plt.figure(figsize=figsize)\n",
    "        plt.grid()\n",
    "\n",
    "        plt.plot(qTrace['time'], qTrace['qSize'], label=hostIdx)\n",
    "\n",
    "        plt.xlabel('Time (sec)')\n",
    "        plt.ylabel('Queue Size (KBytes)')\n",
    "        plt.title('The Queue Trace of the ToR Switch for ' + \\\n",
    "                  workloadSource + ' Workload with ' + \\\n",
    "                  str(networkLoad*100) + '% Load')\n",
    "        plt.legend(title='Host Idx')\n",
    "\n",
    "        plt.gca().spines[\"right\"].set_visible(False)\n",
    "        plt.gca().spines[\"top\"].set_visible(False)\n",
    "        plt.tight_layout()\n",
    "\n",
    "        plt.show()"
   ]
  },
  {
   "cell_type": "code",
   "execution_count": null,
   "metadata": {},
   "outputs": [],
   "source": []
  }
 ],
 "metadata": {
  "kernelspec": {
   "display_name": "Python 3",
   "language": "python",
   "name": "python3"
  },
  "language_info": {
   "codemirror_mode": {
    "name": "ipython",
    "version": 3
   },
   "file_extension": ".py",
   "mimetype": "text/x-python",
   "name": "python",
   "nbconvert_exporter": "python",
   "pygments_lexer": "ipython3",
   "version": "3.4.3"
  }
 },
 "nbformat": 4,
 "nbformat_minor": 2
}
