{
 "cells": [
  {
   "cell_type": "code",
   "execution_count": 1,
   "metadata": {},
   "outputs": [],
   "source": [
    "# import sys\n",
    "# !{sys.executable} -m pip install scipy"
   ]
  },
  {
   "cell_type": "code",
   "execution_count": 2,
   "metadata": {},
   "outputs": [],
   "source": [
    "import json\n",
    "import numpy as np\n",
    "from scipy import stats\n",
    "from collections import Counter \n",
    "import matplotlib.pyplot as plt\n",
    "\n",
    "figsize = (6,4)\n",
    "pktPayloadSize = 1460 # Bytes"
   ]
  },
  {
   "cell_type": "code",
   "execution_count": 3,
   "metadata": {},
   "outputs": [],
   "source": [
    "def removeKey(d, key):\n",
    "    r = dict(d)\n",
    "    del r[key]\n",
    "    return r"
   ]
  },
  {
   "cell_type": "code",
   "execution_count": 4,
   "metadata": {},
   "outputs": [],
   "source": [
    "def mostFrequent(List): \n",
    "    occurence_count = Counter(List) \n",
    "    return occurence_count.most_common(1)[0] "
   ]
  },
  {
   "cell_type": "code",
   "execution_count": 5,
   "metadata": {},
   "outputs": [],
   "source": [
    "def getPctl(a, p):\n",
    "    i = int(len(a) * p)\n",
    "    return a[i]"
   ]
  },
  {
   "cell_type": "markdown",
   "metadata": {},
   "source": [
    "# Importing the NS3 Simulation Data"
   ]
  },
  {
   "cell_type": "code",
   "execution_count": 6,
   "metadata": {},
   "outputs": [],
   "source": [
    "workloadName = '_W5'\n",
    "workloadSource = 'DCTCP'\n",
    "networkLoad = 0.8\n",
    "simName = workloadName + '_load-' + str(int(networkLoad*100)) + 'p'\n",
    "numSim = 4\n",
    "folderName = str(numSim)+\"-parallel-sims-noRtx/\"\n",
    "# folderName = \"./\""
   ]
  },
  {
   "cell_type": "code",
   "execution_count": 7,
   "metadata": {},
   "outputs": [],
   "source": [
    "inboundStatsDict = {}\n",
    "\n",
    "for i in range(numSim):\n",
    "    with open(folderName+\"MsgTraces\"+simName+\"_\"+str(i)+\".tr\",'r') as f:\n",
    "        for line in f:\n",
    "            msgLog = line.split()\n",
    "\n",
    "            time = float(msgLog[1])*1e-9        # in seconds\n",
    "            msgSize = int(msgLog[2])#//1462*1462 # in bytes\n",
    "            sender = msgLog[3]                  # ip:port\n",
    "            receiver = msgLog[4]                # ip:port\n",
    "            txMsgId = int(msgLog[5])\n",
    "\n",
    "            key = str(i) + ':' + receiver\n",
    "            senderHost = sender.split(':')[0]\n",
    "\n",
    "            if (msgLog[0]=='+'):\n",
    "                if (key in inboundStatsDict):\n",
    "                    inboundStatsDict[key]['time'].append(time)\n",
    "                    \n",
    "                    nPendingMsg = inboundStatsDict[key]['nPendingMsg'][-1] + 1\n",
    "                    inboundStatsDict[key]['nPendingMsg'].append(nPendingMsg)\n",
    "                    \n",
    "                    inboundBytes = inboundStatsDict[key]['inboundBytes'][-1] + msgSize\n",
    "                    inboundStatsDict[key]['inboundBytes'].append(inboundBytes)\n",
    "                    \n",
    "                    inboundStatsDict[key]['pendingSenders'].append(senderHost)\n",
    "                    \n",
    "                    pendingSenders =inboundStatsDict[key]['pendingSenders']\n",
    "                    popSender, nMsg = mostFrequent(pendingSenders)\n",
    "                    curMaxNMsg = inboundStatsDict[key]['maxNMsgFromSameSender'][-1]\n",
    "                    if (nMsg > curMaxNMsg):\n",
    "                        inboundStatsDict[key]['popularSender'].append(popSender)\n",
    "                    else:\n",
    "                        curPopSender = inboundStatsDict[key]['popularSender'][-1]\n",
    "                        inboundStatsDict[key]['popularSender'].append(curPopSender)\n",
    "                    inboundStatsDict[key]['maxNMsgFromSameSender'].append(nMsg)\n",
    "                    \n",
    "                    inboundStatsDict[key]['nDistinctSenders'].append(len(set(pendingSenders)))\n",
    "                        \n",
    "                else:\n",
    "                    inboundStatsDict[key] = {}\n",
    "                    inboundStatsDict[key]['time'] = [time]\n",
    "                    inboundStatsDict[key]['nPendingMsg'] = [1]\n",
    "                    inboundStatsDict[key]['inboundBytes'] = [msgSize]\n",
    "                    inboundStatsDict[key]['pendingSenders'] = [senderHost]\n",
    "                    inboundStatsDict[key]['popularSender'] = [senderHost]\n",
    "                    inboundStatsDict[key]['maxNMsgFromSameSender'] = [1]\n",
    "                    inboundStatsDict[key]['nDistinctSenders'] = [1]\n",
    "\n",
    "            elif (msgLog[0] =='-'):\n",
    "                assert(key in inboundStatsDict)\n",
    "                inboundStatsDict[key]['time'].append(time)\n",
    "                    \n",
    "                nPendingMsg = inboundStatsDict[key]['nPendingMsg'][-1] - 1\n",
    "                inboundStatsDict[key]['nPendingMsg'].append(nPendingMsg)\n",
    "                    \n",
    "                inboundBytes = inboundStatsDict[key]['inboundBytes'][-1] - msgSize\n",
    "                inboundStatsDict[key]['inboundBytes'].append(inboundBytes)\n",
    "                \n",
    "                inboundStatsDict[key]['pendingSenders'].remove(senderHost)\n",
    "                \n",
    "                pendingSenders = inboundStatsDict[key]['pendingSenders']\n",
    "                if (len(pendingSenders) > 0):\n",
    "                    popSender, nMsg = mostFrequent(pendingSenders)\n",
    "                    inboundStatsDict[key]['popularSender'].append(popSender)\n",
    "                    inboundStatsDict[key]['maxNMsgFromSameSender'].append(nMsg)\n",
    "                    inboundStatsDict[key]['nDistinctSenders'].append(len(set(pendingSenders)))\n",
    "                else:\n",
    "                    inboundStatsDict[key]['popularSender'].append('')\n",
    "                    inboundStatsDict[key]['maxNMsgFromSameSender'].append(0)\n",
    "                    inboundStatsDict[key]['nDistinctSenders'].append(0)"
   ]
  },
  {
   "cell_type": "code",
   "execution_count": 8,
   "metadata": {},
   "outputs": [],
   "source": [
    "# from itertools import islice\n",
    "# print (list(islice(inboundStatsDict.items(), 1)))"
   ]
  },
  {
   "cell_type": "markdown",
   "metadata": {},
   "source": [
    "# Analysis"
   ]
  },
  {
   "cell_type": "code",
   "execution_count": 9,
   "metadata": {},
   "outputs": [],
   "source": [
    "maxNMsgFromSameSender = []\n",
    "maxDistinctSenders = []\n",
    "medDistinctSenders = []\n",
    "maxPendingMsgs = []\n",
    "for receiver, stats in inboundStatsDict.items():\n",
    "    maxNMsgFromSameSender.append(max(stats['maxNMsgFromSameSender']))\n",
    "    maxDistinctSenders.append(max(stats['nDistinctSenders']))\n",
    "    medDistinctSenders.append(getPctl(stats['nDistinctSenders'],0.5))\n",
    "    maxPendingMsgs.append(max(stats['nPendingMsg']))\n",
    "    \n",
    "zipData = sorted(zip(maxPendingMsgs,\n",
    "                     maxDistinctSenders, \n",
    "                     medDistinctSenders,\n",
    "                     maxNMsgFromSameSender))\n",
    "maxPendingMsgs = np.array([x for x,_,_,_ in zipData])\n",
    "maxDistinctSenders = np.array([x for _,x,_,_ in zipData])\n",
    "medDistinctSenders = np.array([x for _,_,x,_ in zipData])\n",
    "maxNMsgFromSameSender = np.array([x for _,_,_,x in zipData])"
   ]
  },
  {
   "cell_type": "markdown",
   "metadata": {},
   "source": [
    "# Plotting the Stats"
   ]
  },
  {
   "cell_type": "code",
   "execution_count": 10,
   "metadata": {},
   "outputs": [
    {
     "data": {
      "image/png": "[encoded data removed]",
      "text/plain": [
       "<Figure size 432x288 with 1 Axes>"
      ]
     },
     "metadata": {},
     "output_type": "display_data"
    }
   ],
   "source": [
    "plt.figure(figsize=figsize)\n",
    "plt.grid()\n",
    "\n",
    "x = np.arange(len(maxPendingMsgs))\n",
    "\n",
    "# w = 0.2\n",
    "# plt.bar(x, maxPendingMsgs, w, label='Max # of Pending Msgs')\n",
    "# plt.bar(x+w, maxDistinctSenders, w, label='Max # of Distinct Sender')\n",
    "# plt.bar(x+w*2, medDistinctSenders, w, label='Median # of Distinct Sender')\n",
    "# plt.bar(x+w*3, maxNMsgFromSameSender, w, label='Max # of Msgs From Same Sender')\n",
    "# plt.xticks(x + w * 1.5, x)\n",
    "\n",
    "plt.scatter(x, maxPendingMsgs, label='Max # of Pending Msgs', \n",
    "            c='C0', marker='x')\n",
    "# plt.scatter(x, maxDistinctSenders, label='Max # of Distinct Sender', \n",
    "#             c='C1', marker=0)\n",
    "# plt.scatter(x, medDistinctSenders, label='Median # of Distinct Sender', \n",
    "#             c='C2', marker=1)\n",
    "plt.scatter(x, maxNMsgFromSameSender, label='Max # of Msgs From Same Sender', \n",
    "            c='C3', marker='+')\n",
    "\n",
    "plt.ylabel('Stats')\n",
    "plt.xlabel('Receiver Index')\n",
    "plt.title('Homa Receiver Statistics')\n",
    "plt.legend()\n",
    "\n",
    "plt.gca().spines[\"right\"].set_visible(False)\n",
    "plt.gca().spines[\"top\"].set_visible(False)\n",
    "plt.tight_layout()\n",
    "\n",
    "plt.savefig(folderName+'RecvPendingMsgStats'+simName+'.png')\n",
    "plt.show()"
   ]
  },
  {
   "cell_type": "code",
   "execution_count": null,
   "metadata": {},
   "outputs": [],
   "source": []
  }
 ],
 "metadata": {
  "kernelspec": {
   "display_name": "Python 3",
   "language": "python",
   "name": "python3"
  },
  "language_info": {
   "codemirror_mode": {
    "name": "ipython",
    "version": 3
   },
   "file_extension": ".py",
   "mimetype": "text/x-python",
   "name": "python",
   "nbconvert_exporter": "python",
   "pygments_lexer": "ipython3",
   "version": "3.4.3"
  }
 },
 "nbformat": 4,
 "nbformat_minor": 2
}
