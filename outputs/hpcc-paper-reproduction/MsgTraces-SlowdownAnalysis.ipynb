{
 "cells": [
  {
   "cell_type": "code",
   "execution_count": 1,
   "metadata": {},
   "outputs": [],
   "source": [
    "import json\n",
    "import math\n",
    "import numpy as np\n",
    "from scipy import stats\n",
    "import matplotlib.pyplot as plt\n",
    "\n",
    "figsize = (10,6)\n",
    "\n",
    "pktPayloadSize = 1000. # Bytes\n",
    "maxIntHdrSize = 144.\n",
    "hpccHdrSize = 15.\n",
    "ipHdrSize = 20.\n",
    "mtu = pktPayloadSize + hpccHdrSize + maxIntHdrSize + ipHdrSize\n",
    "\n",
    "torBw = 100e9 # bps\n",
    "coreBw = 400e9 # bps\n",
    "\n",
    "hostPerTor = 16.\n",
    "torPerAgg = 4.\n",
    "linkDelay = 1e-6 # seconds\n",
    "\n",
    "timeLimit = 3.0 # only consider flows that finish before this"
   ]
  },
  {
   "cell_type": "code",
   "execution_count": 2,
   "metadata": {},
   "outputs": [],
   "source": [
    "def remove_key(d, key):\n",
    "    r = dict(d)\n",
    "    del r[key]\n",
    "    return r"
   ]
  },
  {
   "cell_type": "code",
   "execution_count": 3,
   "metadata": {},
   "outputs": [],
   "source": [
    "def get_pctl(a, p):\n",
    "    i = int(len(a) * p)\n",
    "    return a[i]"
   ]
  },
  {
   "cell_type": "code",
   "execution_count": 4,
   "metadata": {},
   "outputs": [],
   "source": [
    "def compute_baseRtt(sender,receiver):\n",
    "    sndIp = sender.split(':')[0]\n",
    "    sndOctets = sndIp.split('.')\n",
    "    sndIdx = int(sndOctets[1])*256 + int(sndOctets[2])\n",
    "    sndTor = sndIdx // hostPerTor\n",
    "    sndAggGrp = sndTor // torPerAgg\n",
    "    \n",
    "    rcvIp = receiver.split(':')[0]\n",
    "    rcvOctets = rcvIp.split('.')\n",
    "    rcvIdx = int(rcvOctets[1])*256 + int(rcvOctets[2])\n",
    "    rcvTor = rcvIdx // hostPerTor\n",
    "    rcvAggGrp = rcvTor // torPerAgg\n",
    "    \n",
    "    delay = 4 * (linkDelay + mtu * 8 / torBw)\n",
    "    \n",
    "    if (sndTor == rcvTor):\n",
    "        return delay\n",
    "    elif (sndAggGrp == rcvAggGrp):\n",
    "        return delay + 4 * (linkDelay + mtu * 8 / coreBw)\n",
    "    else:\n",
    "        return delay + 8 * (linkDelay + mtu * 8 / coreBw)"
   ]
  },
  {
   "cell_type": "code",
   "execution_count": 5,
   "metadata": {},
   "outputs": [],
   "source": [
    "def compute_slowDown(fct, baseRtt, msgSize):\n",
    "    # translate to the minimum bytes required (with header but no INT)\n",
    "    totBytes = msgSize + math.ceil(msgSize / pktPayloadSize) * (hpccHdrSize+ipHdrSize) \n",
    "    standaloneFct = baseRtt + totBytes * 8 / torBw;\n",
    "    return max(fct / standaloneFct, 1.0)"
   ]
  },
  {
   "cell_type": "code",
   "execution_count": 6,
   "metadata": {},
   "outputs": [],
   "source": [
    "workloadName = 'FbHdp'\n",
    "networkLoad = 0.5\n",
    "duration = 50 # milliseconds\n",
    "simName = workloadName \n",
    "simName += 'L' + str(int(networkLoad*100)) + 'p'\n",
    "simName += 'T' + str(int(duration)) + 'ms'\n",
    "folderName = \"./\"\n",
    "step = 5"
   ]
  },
  {
   "cell_type": "markdown",
   "metadata": {},
   "source": [
    "# Importing the Original NS3 Simulation Data"
   ]
  },
  {
   "cell_type": "code",
   "execution_count": 7,
   "metadata": {},
   "outputs": [],
   "source": [
    "origFctAnalysisResults = \"\"\"0.000 300\t1.013 1.702 2.365\n",
    "0.050 325\t1.014 1.703 2.360\n",
    "0.100 350\t1.014 1.703 2.356\n",
    "0.150 400\t1.015 1.704 2.373\n",
    "0.200 450\t1.016 1.714 2.377\n",
    "0.250 499\t1.016 1.696 2.363\n",
    "0.300 549\t1.017 1.707 2.351\n",
    "0.350 599\t1.017 1.703 2.357\n",
    "0.400 650\t1.018 1.714 2.373\n",
    "0.450 700\t1.018 1.701 2.344\n",
    "0.500 850\t1.020 1.706 2.364\n",
    "0.550 1002\t1.022 1.712 2.376\n",
    "0.600 1717\t1.036 1.728 2.377\n",
    "0.650 7217\t1.065 1.770 2.416\n",
    "0.700 36027\t1.333 2.432 3.244\n",
    "0.750 46041\t1.451 2.746 3.704\n",
    "0.800 68020\t1.538 3.049 4.167\n",
    "0.850 119994\t1.705 3.634 5.127\n",
    "0.900 299956\t2.070 4.911 7.044\n",
    "0.950 9999557\t3.909 14.472 22.279\"\"\""
   ]
  },
  {
   "cell_type": "code",
   "execution_count": 8,
   "metadata": {},
   "outputs": [],
   "source": [
    "origMsgSizePctls = []\n",
    "origMsgSizes = []\n",
    "origMedSlowDowns = []\n",
    "origSlowDowns95p = []\n",
    "origSlowDowns99p = []\n",
    "for line in origFctAnalysisResults.split('\\n'):\n",
    "    vals = line.split()\n",
    "    origMsgSizePctls.append(float(vals[0]))\n",
    "    origMsgSizes.append(int(vals[1]))\n",
    "    origMedSlowDowns.append(float(vals[2]))\n",
    "    origSlowDowns95p.append(float(vals[3]))\n",
    "    origSlowDowns99p.append(float(vals[4]))"
   ]
  },
  {
   "cell_type": "markdown",
   "metadata": {},
   "source": [
    "# Importing the NS3 NanoPuArcht Simulation Data"
   ]
  },
  {
   "cell_type": "code",
   "execution_count": 9,
   "metadata": {},
   "outputs": [
    {
     "name": "stdout",
     "output_type": "stream",
     "text": [
      "Number of messages whose start entry is not found: 960105\n"
     ]
    }
   ],
   "source": [
    "msgStartEntryDict = {}\n",
    "zipData = []\n",
    "unfoundMsgCnt = 0\n",
    "\n",
    "with open(folderName+\"FlowTraces\"+simName+\".tr\",'r') as f:\n",
    "    for line in f:\n",
    "        msgLog = line.split()\n",
    "\n",
    "        time = float(msgLog[1])*1e-9        # in seconds\n",
    "        msgSize = int(msgLog[2])            # in bytes\n",
    "        sender = msgLog[3]                  # ip:port\n",
    "        receiver = msgLog[4]                # ip:port\n",
    "        txMsgId = int(msgLog[5])\n",
    "\n",
    "        if (msgLog[0]=='+'):\n",
    "            key = (sender, receiver, txMsgId)\n",
    "            if (key in msgStartEntryDict):\n",
    "                msgStartEntryDict[key].append(time)\n",
    "            else:\n",
    "                msgStartEntryDict[key] = [time]\n",
    "\n",
    "        elif (msgLog[0] =='-' and time < timeLimit):\n",
    "            key = (sender, receiver, txMsgId)\n",
    "            if (key in msgStartEntryDict):\n",
    "                          \n",
    "                startTime = msgStartEntryDict[key].pop()\n",
    "                if (len(msgStartEntryDict[key]) <= 0):\n",
    "                    msgStartEntryDict = remove_key(msgStartEntryDict, key)\n",
    "\n",
    "                baseRtt = compute_baseRtt(sender,receiver)\n",
    "                \n",
    "                zipData.append((msgSize,\n",
    "                                compute_slowDown(time-startTime,\n",
    "                                                 baseRtt,\n",
    "                                                 msgSize)))\n",
    "            else:\n",
    "#                 print('ERROR: Start entry of message (' \\\n",
    "#                       + sender + ' > ' + receiver + ', ' + str(txMsgId) \\\n",
    "#                       + ') not found!')\n",
    "                unfoundMsgCnt += 1\n",
    "\n",
    "zipData = sorted(zipData)\n",
    "nanopuMsgSizes = [x for x,_ in zipData]\n",
    "nanopuSlowDowns = [x for _,x in zipData]\n",
    "\n",
    "print ('Number of messages whoose start entry is not found: {}'.format(unfoundMsgCnt))"
   ]
  },
  {
   "cell_type": "code",
   "execution_count": 10,
   "metadata": {},
   "outputs": [
    {
     "name": "stdout",
     "output_type": "stream",
     "text": [
      "Number of uncompleted messages: 9\n"
     ]
    }
   ],
   "source": [
    "i = 0\n",
    "for msgKey, msgStartTimes in msgStartEntryDict.items():\n",
    "#     print(msgKey, ' : ', msgStartTimes)\n",
    "    i += len(msgStartTimes)\n",
    "print ('Number of uncompleted messages: ' + str(i))"
   ]
  },
  {
   "cell_type": "code",
   "execution_count": 11,
   "metadata": {},
   "outputs": [],
   "source": [
    "res = [[i/100.] for i in range(0, 100, step)]\n",
    "nMsgs = len(nanopuMsgSizes)\n",
    "for i in range(0,100,step):\n",
    "    l = int(i * nMsgs / 100)\n",
    "    r = int((i+step) * nMsgs / 100)\n",
    "    msOfThisStep = nanopuMsgSizes[l:r]\n",
    "    sdOfThisStep = sorted(nanopuSlowDowns[l:r])\n",
    "    res[int(i/step)].append(msOfThisStep[-1]) # flow size\n",
    "    #res[int(i/step)].append(sum(sdOfThisStep) / len(sdOfThisStep)) # avg fct\n",
    "    res[int(i/step)].append(get_pctl(sdOfThisStep, 0.5)) # mid fct\n",
    "    res[int(i/step)].append(get_pctl(sdOfThisStep, 0.95)) # 95-pct fct\n",
    "    res[int(i/step)].append(get_pctl(sdOfThisStep, 0.99)) # 99-pct fct\n",
    "nanopuMsgSizePctls = [x for x,_,_,_,_ in res]\n",
    "nanopuMsgSizes = [x for _,x,_,_,_ in res]\n",
    "nanopuMedSlowDowns = [x for _,_,x,_,_ in res]\n",
    "nanopuSlowDowns95p = [x for _,_,_,x,_ in res]\n",
    "nanopuSlowDowns99p = [x for _,_,_,_,x in res]"
   ]
  },
  {
   "cell_type": "code",
   "execution_count": 12,
   "metadata": {},
   "outputs": [
    {
     "data": {
      "text/plain": [
       "[[0.0, 299, 1.960373377495898, 40.189085556462004, 72.05348311432972],\n",
       " [0.05, 324, 1.9381999275834776, 40.946214951934984, 71.139729238654],\n",
       " [0.1, 349, 1.857371051840152, 40.83675226543157, 73.6917782985895],\n",
       " [0.15, 400, 1.9990951806361565, 43.013337862872376, 76.49641509614399],\n",
       " [0.2, 450, 1.8248951173089472, 42.63076283345261, 74.08630440441338],\n",
       " [0.25, 500, 1.956835559488689, 41.96102256289004, 74.64508063032744],\n",
       " [0.3, 550, 2.088805562963168, 42.028944129333205, 73.07567674189252],\n",
       " [0.35, 601, 2.0627782075451773, 41.80285730378813, 70.84036291677157],\n",
       " [0.4, 650, 1.8990300801938786, 41.285556703705865, 73.50758877029908],\n",
       " [0.45, 701, 1.9389174833084737, 40.41261289811157, 71.5479050075769],\n",
       " [0.5, 850, 1.9672941882723685, 40.44943909191218, 71.8815706143229],\n",
       " [0.55, 999, 1.861219044050348, 41.56377830402286, 72.081762699631],\n",
       " [0.6, 1720, 1.9148674260093934, 42.23718349555581, 70.64398340985758],\n",
       " [0.65, 7979, 1.8638170974346149, 40.322378037629555, 75.0480448649433],\n",
       " [0.7, 36179, 10.706430362995048, 63.364247838727174, 98.18966860585051],\n",
       " [0.75, 46128, 10.811699634325306, 59.302209909033955, 88.46806007776915],\n",
       " [0.8, 68474, 10.056883513161937, 54.46459584978141, 84.09277157801607],\n",
       " [0.85, 122375, 8.554043283674414, 45.80003592128144, 71.5180087647298],\n",
       " [0.9, 309315, 8.795192674660752, 39.75372854679289, 59.12714653569636],\n",
       " [0.95, 9998770, 6.484231934184962, 27.438712906648753, 41.317626848488565]]"
      ]
     },
     "execution_count": 12,
     "metadata": {},
     "output_type": "execute_result"
    }
   ],
   "source": [
    "res"
   ]
  },
  {
   "cell_type": "markdown",
   "metadata": {},
   "source": [
    "# Plotting the Slowdown Curves"
   ]
  },
  {
   "cell_type": "code",
   "execution_count": 13,
   "metadata": {},
   "outputs": [
    {
     "data": {
      "image/png": "[encoded data removed]",
      "text/plain": [
       "<Figure size 288x180 with 1 Axes>"
      ]
     },
     "metadata": {},
     "output_type": "display_data"
    }
   ],
   "source": [
    "plt.figure(figsize=(4,2.5))\n",
    "\n",
    "plt.plot([-0.1]+origMsgSizePctls, \n",
    "         [origSlowDowns95p[0]]+origSlowDowns95p, \n",
    "         label='HPCC (Original)', linewidth=4.0)\n",
    "plt.plot([-0.1]+nanopuMsgSizePctls, \n",
    "         [nanopuSlowDowns95p[0]]+nanopuSlowDowns95p, \n",
    "         label='HPCC (NanoPU)', linewidth=4.0)\n",
    "\n",
    "plt.yscale('log')\n",
    "plt.ylim([1,100])\n",
    "yticks = [1,10,100]\n",
    "plt.yticks(yticks, yticks)\n",
    "# plt.xticks(msgSizePctls, msgSizes, rotation=45)\n",
    "plt.xticks([-0.1,0,0.1,0.2,0.3,0.4,0.5,0.6,0.7,0.8,0.9], \n",
    "           ['0','324','400','500','600','700','1K','7K', '46K', '120K', '10M'], \n",
    "           rotation=45)\n",
    "plt.xlim([-0.1,0.9])\n",
    "\n",
    "plt.title('95th Percentile FCT Slow Down')\n",
    "plt.ylabel('FCT Slow down')\n",
    "plt.xlabel('Flow size (Byte)')\n",
    "plt.legend(frameon=False)\n",
    "\n",
    "plt.gca().spines[\"right\"].set_visible(False)\n",
    "plt.gca().spines[\"top\"].set_visible(False)\n",
    "plt.tight_layout()\n",
    "\n",
    "plt.gca().tick_params(axis=\"both\", which='both', direction=\"in\", \n",
    "                      left=True, labelleft=True)\n",
    "\n",
    "plt.show()"
   ]
  },
  {
   "cell_type": "code",
   "execution_count": 14,
   "metadata": {},
   "outputs": [
    {
     "data": {
      "image/png": "[encoded data removed]",
      "text/plain": [
       "<Figure size 720x432 with 1 Axes>"
      ]
     },
     "metadata": {},
     "output_type": "display_data"
    }
   ],
   "source": [
    "plt.figure(figsize=figsize)\n",
    "\n",
    "plt.plot([-0.1]+origMsgSizePctls, \n",
    "         [origMedSlowDowns[0]]+origMedSlowDowns, \n",
    "         label='HPCC (Original)', linewidth=4.0)\n",
    "plt.plot([-0.1]+nanopuMsgSizePctls, \n",
    "         [nanopuMedSlowDowns[0]]+nanopuMedSlowDowns, \n",
    "         label='HPCC (NanoPU)', linewidth=4.0)\n",
    "\n",
    "plt.yscale('log')\n",
    "# plt.ylim([1,100])\n",
    "yticks = [1,10]\n",
    "plt.yticks(yticks, yticks)\n",
    "# plt.xticks(msgSizePctls, msgSizes, rotation=45)\n",
    "plt.xticks([-0.1,0,0.1,0.2,0.3,0.4,0.5,0.6,0.7,0.8,0.9], \n",
    "           ['0','324','400','500','600','700','1K','7K', '46K', '120K', '10M'], \n",
    "           rotation=45)\n",
    "plt.xlim([-0.1,0.9])\n",
    "\n",
    "plt.title('Median FCT Slow Down')\n",
    "plt.ylabel('FCT Slow down')\n",
    "plt.xlabel('Flow size (Byte)')\n",
    "plt.legend(frameon=False)\n",
    "\n",
    "plt.gca().spines[\"right\"].set_visible(False)\n",
    "plt.gca().spines[\"top\"].set_visible(False)\n",
    "plt.tight_layout()\n",
    "\n",
    "plt.gca().tick_params(axis=\"both\", which='both', direction=\"in\", \n",
    "                      left=True, labelleft=True)\n",
    "\n",
    "plt.show()"
   ]
  },
  {
   "cell_type": "markdown",
   "metadata": {},
   "source": [
    "The best results I got so far:\n",
    "\n",
    "[[0.0, 299, 1.7364600959184067, 12.842424338850918, 25.575147522615207],\n",
    " [0.05, 324, 1.7628785424043103, 12.517311149650238, 24.583733363438736],\n",
    " [0.1, 349, 1.7517799640526293, 13.053606021132577, 25.997976369818325],\n",
    " [0.15, 400, 1.7787511987209006, 13.237403474416343, 25.68929024978213],\n",
    " [0.2, 449, 1.7509378748910525, 12.772760161450798, 24.36954039647819],\n",
    " [0.25, 500, 1.7877768610701918, 13.13687296170443, 26.530236690147703],\n",
    " [0.3, 550, 1.7891920524696412, 13.06759063051221, 26.13905780580643],\n",
    " [0.35, 600, 1.7612443801847892, 12.95742050030086, 26.12019700371519],\n",
    " [0.4, 650, 1.7561308852252977, 12.961420810153305, 25.36039079879353],\n",
    " [0.45, 701, 1.783971120502255, 12.831005152828428, 25.438431121552718],\n",
    " [0.5, 851, 1.7617864040713742, 13.200841389526474, 26.25518442298889],\n",
    " [0.55, 1000, 1.7388146150374697, 12.896942933625557, 25.563329837627986],\n",
    " [0.6, 1715, 1.7995741249284252, 13.137501284580436, 26.18808805252277],\n",
    " [0.65, 7541, 1.7658434807836858, 12.728258684033095, 25.505002105173663],\n",
    " [0.7, 36100, 6.518408380750952, 25.458283685941872, 44.0372692705409],\n",
    " [0.75, 46106, 6.368017925417849, 23.74019306974227, 39.97633747888511],\n",
    " [0.8, 68579, 6.109555001177784, 22.097764098435555, 37.17094436970342],\n",
    " [0.85, 122032, 5.507486499763273, 19.073701418395878, 31.4063588438023],\n",
    " [0.9, 309363, 5.431042413204169, 17.623818310662426, 27.37122176572041],\n",
    " [0.95, 9999988, 5.575687470231661, 15.150993593014224, 21.66471461067377]]"
   ]
  },
  {
   "cell_type": "code",
   "execution_count": null,
   "metadata": {},
   "outputs": [],
   "source": []
  }
 ],
 "metadata": {
  "kernelspec": {
   "display_name": "Python 3",
   "language": "python",
   "name": "python3"
  },
  "language_info": {
   "codemirror_mode": {
    "name": "ipython",
    "version": 3
   },
   "file_extension": ".py",
   "mimetype": "text/x-python",
   "name": "python",
   "nbconvert_exporter": "python",
   "pygments_lexer": "ipython3",
   "version": "3.4.3"
  }
 },
 "nbformat": 4,
 "nbformat_minor": 2
}
