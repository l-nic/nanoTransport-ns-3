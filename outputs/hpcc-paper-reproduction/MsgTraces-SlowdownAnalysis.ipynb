{
 "cells": [
  {
   "cell_type": "code",
   "execution_count": 1,
   "metadata": {},
   "outputs": [],
   "source": [
    "import json\n",
    "import math\n",
    "import numpy as np\n",
    "from scipy import stats\n",
    "import matplotlib.pyplot as plt\n",
    "\n",
    "figsize = (10,6)\n",
    "\n",
    "pktPayloadSize = 1000. # Bytes\n",
    "maxIntHdrSize = 52.\n",
    "hpccHdrSize = 15.\n",
    "ipHdrSize = 20.\n",
    "mtu = pktPayloadSize + hpccHdrSize + maxIntHdrSize + ipHdrSize\n",
    "\n",
    "torBw = 100e9 # bps\n",
    "coreBw = 400e9 # bps\n",
    "\n",
    "hostPerTor = 16.\n",
    "torPerAgg = 4.\n",
    "linkDelay = 1e-6 # seconds\n",
    "\n",
    "timeLimit = 3.0 # only consider flows that finish before this"
   ]
  },
  {
   "cell_type": "code",
   "execution_count": 2,
   "metadata": {},
   "outputs": [],
   "source": [
    "def remove_key(d, key):\n",
    "    r = dict(d)\n",
    "    del r[key]\n",
    "    return r"
   ]
  },
  {
   "cell_type": "code",
   "execution_count": 3,
   "metadata": {},
   "outputs": [],
   "source": [
    "def get_pctl(a, p):\n",
    "    i = int(len(a) * p)\n",
    "    return a[i]"
   ]
  },
  {
   "cell_type": "code",
   "execution_count": 4,
   "metadata": {},
   "outputs": [],
   "source": [
    "def compute_baseRtt(sender,receiver):\n",
    "    sndIp = sender.split(':')[0]\n",
    "    sndOctets = sndIp.split('.')\n",
    "    sndIdx = int(sndOctets[1])*256 + int(sndOctets[2])\n",
    "    sndTor = sndIdx // hostPerTor\n",
    "    sndAggGrp = sndTor // torPerAgg\n",
    "    \n",
    "    rcvIp = receiver.split(':')[0]\n",
    "    rcvOctets = rcvIp.split('.')\n",
    "    rcvIdx = int(rcvOctets[1])*256 + int(rcvOctets[2])\n",
    "    rcvTor = rcvIdx // hostPerTor\n",
    "    rcvAggGrp = rcvTor // torPerAgg\n",
    "    \n",
    "    delay = 4 * (linkDelay + mtu * 8 / torBw)\n",
    "    \n",
    "    if (sndTor == rcvTor):\n",
    "        return delay\n",
    "    elif (sndAggGrp == rcvAggGrp):\n",
    "        return delay + 4 * (linkDelay + mtu * 8 / coreBw)\n",
    "    else:\n",
    "        return delay + 8 * (linkDelay + mtu * 8 / coreBw)"
   ]
  },
  {
   "cell_type": "code",
   "execution_count": 5,
   "metadata": {},
   "outputs": [],
   "source": [
    "def compute_slowDown(fct, baseRtt, msgSize):\n",
    "    # translate to the minimum bytes required (with header but no INT)\n",
    "    totBytes = msgSize + math.ceil(msgSize / pktPayloadSize) * (hpccHdrSize+ipHdrSize) \n",
    "    standaloneFct = baseRtt + totBytes * 8 / torBw;\n",
    "    return max(fct / standaloneFct, 1.0)\n",
    "    \n",
    "#     baseCompletionTime = (totBytes+mtu)*8.0/torBw \\\n",
    "#                           + 4*mtu*8.0/coreBw + baseRtt\n",
    "#     return max(fct / baseCompletionTime, 1.0)"
   ]
  },
  {
   "cell_type": "code",
   "execution_count": 6,
   "metadata": {},
   "outputs": [],
   "source": [
    "workloadName = 'FbHdp'\n",
    "networkLoad = 0.5\n",
    "duration = 50 # milliseconds\n",
    "simName = workloadName \n",
    "simName += 'L' + str(int(networkLoad*100)) + 'p'\n",
    "simName += 'T' + str(int(duration)) + 'ms'\n",
    "folderName = \"./\"\n",
    "fileTag = \"\" #\"-110221\"\n",
    "step = 5"
   ]
  },
  {
   "cell_type": "markdown",
   "metadata": {},
   "source": [
    "# Importing the Original NS3 Simulation Data"
   ]
  },
  {
   "cell_type": "code",
   "execution_count": 7,
   "metadata": {},
   "outputs": [],
   "source": [
    "origFctAnalysisResults = \"\"\"0.000 300\t1.013 1.702 2.365\n",
    "0.050 325\t1.014 1.703 2.360\n",
    "0.100 350\t1.014 1.703 2.356\n",
    "0.150 400\t1.015 1.704 2.373\n",
    "0.200 450\t1.016 1.714 2.377\n",
    "0.250 499\t1.016 1.696 2.363\n",
    "0.300 549\t1.017 1.707 2.351\n",
    "0.350 599\t1.017 1.703 2.357\n",
    "0.400 650\t1.018 1.714 2.373\n",
    "0.450 700\t1.018 1.701 2.344\n",
    "0.500 850\t1.020 1.706 2.364\n",
    "0.550 1002\t1.022 1.712 2.376\n",
    "0.600 1717\t1.036 1.728 2.377\n",
    "0.650 7217\t1.065 1.770 2.416\n",
    "0.700 36027\t1.333 2.432 3.244\n",
    "0.750 46041\t1.451 2.746 3.704\n",
    "0.800 68020\t1.538 3.049 4.167\n",
    "0.850 119994\t1.705 3.634 5.127\n",
    "0.900 299956\t2.070 4.911 7.044\n",
    "0.950 9999557\t3.909 14.472 22.279\"\"\""
   ]
  },
  {
   "cell_type": "code",
   "execution_count": 8,
   "metadata": {},
   "outputs": [],
   "source": [
    "origMsgSizePctls = []\n",
    "origMsgSizes = []\n",
    "origMedSlowDowns = []\n",
    "origSlowDowns95p = []\n",
    "origSlowDowns99p = []\n",
    "for line in origFctAnalysisResults.split('\\n'):\n",
    "    vals = line.split()\n",
    "    origMsgSizePctls.append(float(vals[0]))\n",
    "    origMsgSizes.append(int(vals[1]))\n",
    "    origMedSlowDowns.append(float(vals[2]))\n",
    "    origSlowDowns95p.append(float(vals[3]))\n",
    "    origSlowDowns99p.append(float(vals[4]))"
   ]
  },
  {
   "cell_type": "markdown",
   "metadata": {},
   "source": [
    "# Importing the NS3 NanoPuArcht Simulation Data"
   ]
  },
  {
   "cell_type": "code",
   "execution_count": 9,
   "metadata": {},
   "outputs": [
    {
     "name": "stdout",
     "output_type": "stream",
     "text": [
      "Number of messages whoose start entry is not found: 0\n"
     ]
    }
   ],
   "source": [
    "msgStartEntryDict = {}\n",
    "zipData = []\n",
    "unfoundMsgCnt = 0\n",
    "\n",
    "with open(folderName+\"FlowTraces\"+simName+fileTag+\".tr\",'r') as f:\n",
    "    for line in f:\n",
    "        msgLog = line.split()\n",
    "\n",
    "        time = float(msgLog[1])*1e-9        # in seconds\n",
    "        msgSize = int(msgLog[2])            # in bytes\n",
    "        sender = msgLog[3]                  # ip:port\n",
    "        receiver = msgLog[4]                # ip:port\n",
    "        txMsgId = int(msgLog[5])\n",
    "\n",
    "        if (msgLog[0]=='+'):\n",
    "            key = (sender, receiver, txMsgId)\n",
    "            if (key in msgStartEntryDict):\n",
    "                msgStartEntryDict[key].append(time)\n",
    "            else:\n",
    "                msgStartEntryDict[key] = [time]\n",
    "\n",
    "        elif (msgLog[0] =='-' and time < timeLimit):\n",
    "            key = (sender, receiver, txMsgId)\n",
    "            if (key in msgStartEntryDict):\n",
    "                          \n",
    "                startTime = msgStartEntryDict[key].pop()\n",
    "                if (len(msgStartEntryDict[key]) <= 0):\n",
    "                    msgStartEntryDict = remove_key(msgStartEntryDict, key)\n",
    "\n",
    "                baseRtt = compute_baseRtt(sender,receiver)\n",
    "                \n",
    "                zipData.append((msgSize,\n",
    "                                compute_slowDown(time-startTime,\n",
    "                                                 baseRtt,\n",
    "                                                 msgSize)))\n",
    "            else:\n",
    "#                 print('ERROR: Start entry of message (' \\\n",
    "#                       + sender + ' > ' + receiver + ', ' + str(txMsgId) \\\n",
    "#                       + ') not found!')\n",
    "                unfoundMsgCnt += 1\n",
    "\n",
    "zipData = sorted(zipData)\n",
    "nanopuMsgSizes = [x for x,_ in zipData]\n",
    "nanopuSlowDowns = [x for _,x in zipData]\n",
    "\n",
    "print ('Number of messages whoose start entry is not found: {}'.format(unfoundMsgCnt))"
   ]
  },
  {
   "cell_type": "code",
   "execution_count": 10,
   "metadata": {},
   "outputs": [
    {
     "name": "stdout",
     "output_type": "stream",
     "text": [
      "Number of uncompleted messages: 0\n"
     ]
    }
   ],
   "source": [
    "i = 0\n",
    "for msgKey, msgStartTimes in msgStartEntryDict.items():\n",
    "#     print(msgKey, ' : ', msgStartTimes)\n",
    "    i += len(msgStartTimes)\n",
    "print ('Number of uncompleted messages: ' + str(i))"
   ]
  },
  {
   "cell_type": "code",
   "execution_count": 11,
   "metadata": {},
   "outputs": [],
   "source": [
    "res = [[i/100.] for i in range(0, 100, step)]\n",
    "nMsgs = len(nanopuMsgSizes)\n",
    "for i in range(0,100,step):\n",
    "    l = int(i * nMsgs / 100)\n",
    "    r = int((i+step) * nMsgs / 100)\n",
    "    msOfThisStep = nanopuMsgSizes[l:r]\n",
    "    sdOfThisStep = sorted(nanopuSlowDowns[l:r])\n",
    "    res[int(i/step)].append(msOfThisStep[-1]) # flow size\n",
    "    #res[int(i/step)].append(sum(sdOfThisStep) / len(sdOfThisStep)) # avg fct\n",
    "    res[int(i/step)].append(get_pctl(sdOfThisStep, 0.5)) # mid fct\n",
    "    res[int(i/step)].append(get_pctl(sdOfThisStep, 0.95)) # 95-pct fct\n",
    "    res[int(i/step)].append(get_pctl(sdOfThisStep, 0.99)) # 99-pct fct\n",
    "nanopuMsgSizePctls = [x for x,_,_,_,_ in res]\n",
    "nanopuMsgSizes = [x for _,x,_,_,_ in res]\n",
    "nanopuMedSlowDowns = [x for _,_,x,_,_ in res]\n",
    "nanopuSlowDowns95p = [x for _,_,_,x,_ in res]\n",
    "nanopuSlowDowns99p = [x for _,_,_,_,x in res]"
   ]
  },
  {
   "cell_type": "code",
   "execution_count": 12,
   "metadata": {},
   "outputs": [
    {
     "data": {
      "text/plain": [
       "[[0.0, 299, 1.0, 1.3665261667825088, 2.0620230928925194],\n",
       " [0.05, 324, 1.0, 1.3648953598599372, 2.037329375703157],\n",
       " [0.1, 349, 1.0, 1.3852059841564943, 2.1655055263003695],\n",
       " [0.15, 400, 1.0, 1.3799947750431458, 2.1397662531349937],\n",
       " [0.2, 449, 1.0, 1.3618584087834853, 2.058051611358865],\n",
       " [0.25, 500, 1.0, 1.385607199259538, 2.1236793672250753],\n",
       " [0.3, 550, 1.0, 1.3586766231913476, 2.0161546981095437],\n",
       " [0.35, 600, 1.0, 1.3625343616220122, 2.080484216279109],\n",
       " [0.4, 650, 1.0, 1.3769748501331216, 2.077356150014891],\n",
       " [0.45, 701, 1.0, 1.3860361448766667, 2.1445178075080205],\n",
       " [0.5, 851, 1.0, 1.3733461699844094, 2.0965904811981977],\n",
       " [0.55, 1000, 1.0, 1.3675594860120845, 2.077615998364538],\n",
       " [0.6, 1715, 1.0, 1.37938138535035, 2.0815377205296546],\n",
       " [0.65, 7541, 1.0, 1.392651593630182, 2.0622916409459116],\n",
       " [0.7, 36100, 1.670123088190091, 2.828102933431974, 3.608862135524879],\n",
       " [0.75, 46106, 1.6976412163273733, 2.7548932183649044, 3.4964643132178304],\n",
       " [0.8, 68579, 1.6985556520005716, 2.6946777584207906, 3.3281967021540506],\n",
       " [0.85, 122032, 1.6939624975081433, 2.5637385754529203, 3.0807399191422595],\n",
       " [0.9, 309363, 1.926523130561156, 3.146491588525425, 9.402434528538521],\n",
       " [0.95, 9999988, 5.863866132402879, 31.131828100758174, 39.60918895541363]]"
      ]
     },
     "execution_count": 12,
     "metadata": {},
     "output_type": "execute_result"
    }
   ],
   "source": [
    "res"
   ]
  },
  {
   "cell_type": "markdown",
   "metadata": {},
   "source": [
    "# Plotting the Slowdown Curves"
   ]
  },
  {
   "cell_type": "code",
   "execution_count": 13,
   "metadata": {},
   "outputs": [
    {
     "data": {
      "image/png": "[encoded data removed]",
      "text/plain": [
       "<Figure size 288x180 with 1 Axes>"
      ]
     },
     "metadata": {},
     "output_type": "display_data"
    }
   ],
   "source": [
    "plt.figure(figsize=(4,2.5))\n",
    "\n",
    "plt.plot([-0.1]+origMsgSizePctls, \n",
    "         [origSlowDowns95p[0]]+origSlowDowns95p, \n",
    "         label='HPCC (Original)', linewidth=4.0)\n",
    "plt.plot([-0.1]+nanopuMsgSizePctls, \n",
    "         [nanopuSlowDowns95p[0]]+nanopuSlowDowns95p, \n",
    "         label='HPCC (NanoPU)', linewidth=4.0)\n",
    "\n",
    "plt.yscale('log')\n",
    "plt.ylim([1,100])\n",
    "yticks = [1,10,100]\n",
    "plt.yticks(yticks, yticks)\n",
    "# plt.xticks(msgSizePctls, msgSizes, rotation=45)\n",
    "plt.xticks([-0.1,0,0.1,0.2,0.3,0.4,0.5,0.6,0.7,0.8,0.9], \n",
    "           ['0','324','400','500','600','700','1K','7K', '46K', '120K', '10M'], \n",
    "           rotation=45)\n",
    "plt.xlim([-0.1,0.9])\n",
    "\n",
    "plt.title('95th Percentile FCT Slow Down')\n",
    "plt.ylabel('FCT Slow down')\n",
    "plt.xlabel('Flow size (Byte)')\n",
    "plt.legend(frameon=False)\n",
    "\n",
    "plt.gca().spines[\"right\"].set_visible(False)\n",
    "plt.gca().spines[\"top\"].set_visible(False)\n",
    "plt.tight_layout()\n",
    "\n",
    "plt.gca().tick_params(axis=\"both\", which='both', direction=\"in\", \n",
    "                      left=True, labelleft=True)\n",
    "\n",
    "plt.savefig(folderName+\"FlowTraces\"+simName+fileTag+\"-95pFctSlowDown.png\")\n",
    "plt.show()"
   ]
  },
  {
   "cell_type": "code",
   "execution_count": 14,
   "metadata": {},
   "outputs": [
    {
     "data": {
      "image/png": "[encoded data removed]",
      "text/plain": [
       "<Figure size 720x432 with 1 Axes>"
      ]
     },
     "metadata": {},
     "output_type": "display_data"
    }
   ],
   "source": [
    "plt.figure(figsize=figsize)\n",
    "\n",
    "plt.plot([-0.1]+origMsgSizePctls, \n",
    "         [origMedSlowDowns[0]]+origMedSlowDowns, \n",
    "         label='HPCC (Original)', linewidth=4.0)\n",
    "plt.plot([-0.1]+nanopuMsgSizePctls, \n",
    "         [nanopuMedSlowDowns[0]]+nanopuMedSlowDowns, \n",
    "         label='HPCC (NanoPU)', linewidth=4.0)\n",
    "\n",
    "plt.yscale('log')\n",
    "# plt.ylim([1,100])\n",
    "yticks = [1,10]\n",
    "plt.yticks(yticks, yticks)\n",
    "# plt.xticks(msgSizePctls, msgSizes, rotation=45)\n",
    "plt.xticks([-0.1,0,0.1,0.2,0.3,0.4,0.5,0.6,0.7,0.8,0.9], \n",
    "           ['0','324','400','500','600','700','1K','7K', '46K', '120K', '10M'], \n",
    "           rotation=45)\n",
    "plt.xlim([-0.1,0.9])\n",
    "\n",
    "plt.title('Median FCT Slow Down')\n",
    "plt.ylabel('FCT Slow down')\n",
    "plt.xlabel('Flow size (Byte)')\n",
    "plt.legend(frameon=False)\n",
    "\n",
    "plt.gca().spines[\"right\"].set_visible(False)\n",
    "plt.gca().spines[\"top\"].set_visible(False)\n",
    "plt.tight_layout()\n",
    "\n",
    "plt.gca().tick_params(axis=\"both\", which='both', direction=\"in\", \n",
    "                      left=True, labelleft=True)\n",
    "\n",
    "plt.show()"
   ]
  },
  {
   "cell_type": "markdown",
   "metadata": {},
   "source": [
    "The best results I got so far:\n",
    "\n",
    "[[0.0, 299, 1.0, 1.3665261667825088, 2.0620230928925194],\n",
    " [0.05, 324, 1.0, 1.3648953598599372, 2.037329375703157],\n",
    " [0.1, 349, 1.0, 1.3852059841564943, 2.1655055263003695],\n",
    " [0.15, 400, 1.0, 1.3799947750431458, 2.1397662531349937],\n",
    " [0.2, 449, 1.0, 1.3618584087834853, 2.058051611358865],\n",
    " [0.25, 500, 1.0, 1.385607199259538, 2.1236793672250753],\n",
    " [0.3, 550, 1.0, 1.3586766231913476, 2.0161546981095437],\n",
    " [0.35, 600, 1.0, 1.3625343616220122, 2.080484216279109],\n",
    " [0.4, 650, 1.0, 1.3769748501331216, 2.077356150014891],\n",
    " [0.45, 701, 1.0, 1.3860361448766667, 2.1445178075080205],\n",
    " [0.5, 851, 1.0, 1.3733461699844094, 2.0965904811981977],\n",
    " [0.55, 1000, 1.0, 1.3675594860120845, 2.077615998364538],\n",
    " [0.6, 1715, 1.0, 1.37938138535035, 2.0815377205296546],\n",
    " [0.65, 7541, 1.0, 1.392651593630182, 2.0622916409459116],\n",
    " [0.7, 36100, 1.670123088190091, 2.828102933431974, 3.608862135524879],\n",
    " [0.75, 46106, 1.6976412163273733, 2.7548932183649044, 3.4964643132178304],\n",
    " [0.8, 68579, 1.6985556520005716, 2.6946777584207906, 3.3281967021540506],\n",
    " [0.85, 122032, 1.6939624975081433, 2.5637385754529203, 3.0807399191422595],\n",
    " [0.9, 309363, 1.926523130561156, 3.146491588525425, 9.402434528538521],\n",
    " [0.95, 9999988, 5.863866132402879, 31.131828100758174, 39.60918895541363]]"
   ]
  },
  {
   "cell_type": "code",
   "execution_count": null,
   "metadata": {},
   "outputs": [],
   "source": []
  }
 ],
 "metadata": {
  "kernelspec": {
   "display_name": "Python 3",
   "language": "python",
   "name": "python3"
  },
  "language_info": {
   "codemirror_mode": {
    "name": "ipython",
    "version": 3
   },
   "file_extension": ".py",
   "mimetype": "text/x-python",
   "name": "python",
   "nbconvert_exporter": "python",
   "pygments_lexer": "ipython3",
   "version": "3.4.3"
  }
 },
 "nbformat": 4,
 "nbformat_minor": 2
}
