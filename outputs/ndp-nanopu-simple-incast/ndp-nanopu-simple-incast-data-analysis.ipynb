{
 "cells": [
  {
   "cell_type": "code",
   "execution_count": 1,
   "metadata": {},
   "outputs": [],
   "source": [
    "import numpy as np\n",
    "import matplotlib.pyplot as plt\n",
    "# plt.rcParams['figure.figsize'] = (10, 4)"
   ]
  },
  {
   "cell_type": "code",
   "execution_count": 2,
   "metadata": {},
   "outputs": [],
   "source": [
    "packet_size = 1088"
   ]
  },
  {
   "cell_type": "code",
   "execution_count": 3,
   "metadata": {},
   "outputs": [],
   "source": [
    "ndp_times = []\n",
    "ndp_q_size = []\n",
    "\n",
    "with open('./ndp-nanopu-simple-incast.qlen','r') as f:\n",
    "    for line in f:\n",
    "        time, q_size = line.split()\n",
    "        ndp_times.append(float(time)/1000)\n",
    "        ndp_q_size.append((float(q_size)+packet_size)/1000)\n",
    "\n",
    "ndp_times = [ i - min(ndp_times) for i in ndp_times]\n",
    "        \n",
    "no_ndp_times = []\n",
    "no_ndp_q_size = []\n",
    "\n",
    "with open('./ndp-nanopu-simple-incast-without-trimming.qlen','r') as f:\n",
    "    for line in f:\n",
    "        time, q_size = line.split()\n",
    "        no_ndp_times.append(float(time)/1000)\n",
    "        no_ndp_q_size.append((float(q_size)+packet_size)/1000)\n",
    "        \n",
    "no_ndp_times = [ i - min(no_ndp_times) for i in no_ndp_times]"
   ]
  },
  {
   "cell_type": "code",
   "execution_count": 4,
   "metadata": {},
   "outputs": [
    {
     "data": {
      "image/png": "[encoded data removed]",
      "text/plain": [
       "<Figure size 648x216 with 1 Axes>"
      ]
     },
     "metadata": {},
     "output_type": "display_data"
    }
   ],
   "source": [
    "plt.figure(figsize=(9,3))\n",
    "\n",
    "plt.scatter(ndp_times, ndp_q_size, \n",
    "         label='NDP', marker='o', s=16)\n",
    "plt.scatter(no_ndp_times, no_ndp_q_size, \n",
    "            label='Without NDP', c='limegreen',\n",
    "            marker='s', s=16)\n",
    "\n",
    "plt.legend()\n",
    "plt.xlabel('Time(us)', fontsize=16)\n",
    "plt.ylabel('Queue Size (KB)', fontsize=16)\n",
    "\n",
    "plt.grid(axis='y')\n",
    "plt.xlim((-1.5,15))\n",
    "\n",
    "plt.gca().get_xaxis().set_ticks([0,5,10])\n",
    "plt.gca().get_yaxis().set_ticks([0,20,40,60,80])\n",
    "plt.gca().tick_params(labelsize=12)\n",
    "\n",
    "plt.gca().spines[\"right\"].set_visible(False)\n",
    "plt.gca().spines[\"left\"].set_visible(False)\n",
    "plt.gca().spines[\"top\"].set_visible(False)\n",
    "plt.gca().spines[\"bottom\"].set_visible(False)\n",
    "\n",
    "plt.savefig('ndp-nanopu-simple-incast-queue-size.png')\n",
    "    \n",
    "plt.show()"
   ]
  },
  {
   "cell_type": "code",
   "execution_count": null,
   "metadata": {},
   "outputs": [],
   "source": []
  }
 ],
 "metadata": {
  "kernelspec": {
   "display_name": "Python 3",
   "language": "python",
   "name": "python3"
  },
  "language_info": {
   "codemirror_mode": {
    "name": "ipython",
    "version": 3
   },
   "file_extension": ".py",
   "mimetype": "text/x-python",
   "name": "python",
   "nbconvert_exporter": "python",
   "pygments_lexer": "ipython3",
   "version": "3.4.3"
  }
 },
 "nbformat": 4,
 "nbformat_minor": 2
}
